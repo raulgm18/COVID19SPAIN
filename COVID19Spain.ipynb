{
 "cells": [
  {
   "cell_type": "markdown",
   "metadata": {},
   "source": [
    "# Modeling COVID-19 epidemic with Python\n",
    "In this tutorial I show how to inspect the data, represent it on chart and model future epidemic trends with Python, using some open source data science libraries such as Pandas, Matplotlib and Scikit-learn.\n",
    "This has been possible thanks to the effort made by the Italian Civil Protection to publish daily data at different scales (national, regional and provincial base), and especially to release it in machine-readable format through their official GitHub repository. \n",
    "First, let's import the necessary libraries. "
   ]
  },
  "cells": [
    {
      "cell_type": "code",
      "metadata": {
        "id": "Sec1TYf3nSt2",
        "colab_type": "code",
        "colab": {}
      },
      "source": [
        "import pandas as pd\n",
        "from datetime import datetime, timedelta\n",
        "import matplotlib.pyplot as plt\n",
        "from matplotlib.dates import DateFormatter\n",
        "import matplotlib.dates as mdates\n",
        "import datetime"
      ],
      "execution_count": 0,
      "outputs": []
    },
    {
      "cell_type": "code",
      "metadata": {
        "id": "LLKmldsuvsIb",
        "colab_type": "code",
        "outputId": "0f78e029-ffd9-4cfd-9712-5f3b92f84719",
        "colab": {
          "base_uri": "https://localhost:8080/",
          "height": 72
        }
      },
      "source": [
        "data = pd.read_csv('https://covid19.isciii.es/resources/serie_historica_acumulados.csv', header= 0, encoding= 'unicode_escape')\n",
        "print(data.columns)"
      ],
      "execution_count": 207,
      "outputs": [
        {
          "output_type": "stream",
          "text": [
            "Index(['CCAA', 'FECHA', 'CASOS', 'PCR+', 'TestAc+', 'Hospitalizados', 'UCI',\n",
            "       'Fallecidos', 'Recuperados'],\n",
            "      dtype='object')\n"
          ],
          "name": "stdout"
        }
      ]
    },
    {
      "cell_type": "code",
      "metadata": {
        "id": "04rT-92lOBr_",
        "colab_type": "code",
        "outputId": "f9a4e687-951e-4966-9fcf-79f873a06efb",
        "colab": {
          "base_uri": "https://localhost:8080/",
          "height": 199
        }
      },
      "source": [
        "dataw = pd.read_csv('https://raw.githubusercontent.com/owid/covid-19-data/master/public/data/owid-covid-data.csv')\n",
        "print(dataw.columns)"
      ],
      "execution_count": 208,
      "outputs": [
        {
          "output_type": "stream",
          "text": [
            "Index(['iso_code', 'location', 'date', 'total_cases', 'new_cases',\n",
            "       'total_deaths', 'new_deaths', 'total_cases_per_million',\n",
            "       'new_cases_per_million', 'total_deaths_per_million',\n",
            "       'new_deaths_per_million', 'total_tests', 'new_tests',\n",
            "       'total_tests_per_thousand', 'new_tests_per_thousand', 'tests_units',\n",
            "       'population', 'population_density', 'median_age', 'aged_65_older',\n",
            "       'aged_70_older', 'gdp_per_capita', 'extreme_poverty', 'cvd_death_rate',\n",
            "       'diabetes_prevalence', 'female_smokers', 'male_smokers',\n",
            "       'handwashing_facilities', 'hospital_beds_per_100k'],\n",
            "      dtype='object')\n"
          ],
          "name": "stdout"
        }
      ]
    },
    {
      "cell_type": "code",
      "metadata": {
        "id": "rLhm3rMj5Oye",
        "colab_type": "code",
        "outputId": "06d5cd3a-a9fd-40a3-b2f2-3b18593ec835",
        "colab": {
          "base_uri": "https://localhost:8080/",
          "height": 308
        }
      },
      "source": [
        "#data format spain\n",
        "pd.DataFrame(data)\n",
        "data['FECHA'] = pd.to_datetime(data['FECHA'], format='%d/%m/%Y')\n",
        "data = data.drop(data[data['CCAA'].map(len) > 2].index)\n",
        "data.info()"
      ],
      "execution_count": 209,
      "outputs": [
        {
          "output_type": "stream",
          "text": [
            "<class 'pandas.core.frame.DataFrame'>\n",
            "Int64Index: 1577 entries, 0 to 1576\n",
            "Data columns (total 9 columns):\n",
            " #   Column          Non-Null Count  Dtype         \n",
            "---  ------          --------------  -----         \n",
            " 0   CCAA            1577 non-null   object        \n",
            " 1   FECHA           1577 non-null   datetime64[ns]\n",
            " 2   CASOS           1 non-null      float64       \n",
            " 3   PCR+            1577 non-null   float64       \n",
            " 4   TestAc+         541 non-null    float64       \n",
            " 5   Hospitalizados  1237 non-null   float64       \n",
            " 6   UCI             1271 non-null   float64       \n",
            " 7   Fallecidos      1254 non-null   float64       \n",
            " 8   Recuperados     1235 non-null   float64       \n",
            "dtypes: datetime64[ns](1), float64(7), object(1)\n",
            "memory usage: 123.2+ KB\n"
          ],
          "name": "stdout"
        }
      ]
    },
    {
      "cell_type": "code",
      "metadata": {
        "id": "ebiipo43i7qO",
        "colab_type": "code",
        "outputId": "acd725ca-5065-45e5-c4cd-37db8d6ffeae",
        "colab": {
          "base_uri": "https://localhost:8080/",
          "height": 680
        }
      },
      "source": [
        "#data CCAA\n",
        "dataCCAA = data.groupby(['CCAA','FECHA']).agg(\n",
        "                                  {'PCR+': 'sum',\n",
        "                                   'UCI': 'sum', \n",
        "                                   'Fallecidos':'sum', \n",
        "                                  }).reset_index()\n",
        "dataCCAA['new_cases'] = dataCCAA.groupby(['CCAA'])['PCR+'].diff().fillna(0)\n",
        "dataCCAA['new_icare'] = dataCCAA.groupby(['CCAA'])['UCI'].diff().fillna(0)\n",
        "dataCCAA['new_deaths'] = dataCCAA.groupby(['CCAA'])['Fallecidos'].diff().fillna(0)\n",
        "\n",
        "dataCCAA.info()\n",
        "dataCCAA"
      ],
      "execution_count": 210,
      "outputs": [
        {
          "output_type": "stream",
          "text": [
            "<class 'pandas.core.frame.DataFrame'>\n",
            "RangeIndex: 1577 entries, 0 to 1576\n",
            "Data columns (total 8 columns):\n",
            " #   Column      Non-Null Count  Dtype         \n",
            "---  ------      --------------  -----         \n",
            " 0   CCAA        1577 non-null   object        \n",
            " 1   FECHA       1577 non-null   datetime64[ns]\n",
            " 2   PCR+        1577 non-null   float64       \n",
            " 3   UCI         1577 non-null   float64       \n",
            " 4   Fallecidos  1577 non-null   float64       \n",
            " 5   new_cases   1577 non-null   float64       \n",
            " 6   new_icare   1577 non-null   float64       \n",
            " 7   new_deaths  1577 non-null   float64       \n",
            "dtypes: datetime64[ns](1), float64(6), object(1)\n",
            "memory usage: 98.7+ KB\n"
          ],
          "name": "stdout"
        },
        {
          "output_type": "execute_result",
          "data": {
            "text/html": [
              "<div>\n",
              "<style scoped>\n",
              "    .dataframe tbody tr th:only-of-type {\n",
              "        vertical-align: middle;\n",
              "    }\n",
              "\n",
              "    .dataframe tbody tr th {\n",
              "        vertical-align: top;\n",
              "    }\n",
              "\n",
              "    .dataframe thead th {\n",
              "        text-align: right;\n",
              "    }\n",
              "</style>\n",
              "<table border=\"1\" class=\"dataframe\">\n",
              "  <thead>\n",
              "    <tr style=\"text-align: right;\">\n",
              "      <th></th>\n",
              "      <th>CCAA</th>\n",
              "      <th>FECHA</th>\n",
              "      <th>PCR+</th>\n",
              "      <th>UCI</th>\n",
              "      <th>Fallecidos</th>\n",
              "      <th>new_cases</th>\n",
              "      <th>new_icare</th>\n",
              "      <th>new_deaths</th>\n",
              "    </tr>\n",
              "  </thead>\n",
              "  <tbody>\n",
              "    <tr>\n",
              "      <th>0</th>\n",
              "      <td>AN</td>\n",
              "      <td>2020-02-20</td>\n",
              "      <td>0.0</td>\n",
              "      <td>0.0</td>\n",
              "      <td>0.0</td>\n",
              "      <td>0.0</td>\n",
              "      <td>0.0</td>\n",
              "      <td>0.0</td>\n",
              "    </tr>\n",
              "    <tr>\n",
              "      <th>1</th>\n",
              "      <td>AN</td>\n",
              "      <td>2020-02-21</td>\n",
              "      <td>0.0</td>\n",
              "      <td>0.0</td>\n",
              "      <td>0.0</td>\n",
              "      <td>0.0</td>\n",
              "      <td>0.0</td>\n",
              "      <td>0.0</td>\n",
              "    </tr>\n",
              "    <tr>\n",
              "      <th>2</th>\n",
              "      <td>AN</td>\n",
              "      <td>2020-02-22</td>\n",
              "      <td>0.0</td>\n",
              "      <td>0.0</td>\n",
              "      <td>0.0</td>\n",
              "      <td>0.0</td>\n",
              "      <td>0.0</td>\n",
              "      <td>0.0</td>\n",
              "    </tr>\n",
              "    <tr>\n",
              "      <th>3</th>\n",
              "      <td>AN</td>\n",
              "      <td>2020-02-23</td>\n",
              "      <td>0.0</td>\n",
              "      <td>0.0</td>\n",
              "      <td>0.0</td>\n",
              "      <td>0.0</td>\n",
              "      <td>0.0</td>\n",
              "      <td>0.0</td>\n",
              "    </tr>\n",
              "    <tr>\n",
              "      <th>4</th>\n",
              "      <td>AN</td>\n",
              "      <td>2020-02-24</td>\n",
              "      <td>0.0</td>\n",
              "      <td>0.0</td>\n",
              "      <td>0.0</td>\n",
              "      <td>0.0</td>\n",
              "      <td>0.0</td>\n",
              "      <td>0.0</td>\n",
              "    </tr>\n",
              "    <tr>\n",
              "      <th>...</th>\n",
              "      <td>...</td>\n",
              "      <td>...</td>\n",
              "      <td>...</td>\n",
              "      <td>...</td>\n",
              "      <td>...</td>\n",
              "      <td>...</td>\n",
              "      <td>...</td>\n",
              "      <td>...</td>\n",
              "    </tr>\n",
              "    <tr>\n",
              "      <th>1572</th>\n",
              "      <td>VC</td>\n",
              "      <td>2020-05-08</td>\n",
              "      <td>10661.0</td>\n",
              "      <td>709.0</td>\n",
              "      <td>1315.0</td>\n",
              "      <td>42.0</td>\n",
              "      <td>3.0</td>\n",
              "      <td>6.0</td>\n",
              "    </tr>\n",
              "    <tr>\n",
              "      <th>1573</th>\n",
              "      <td>VC</td>\n",
              "      <td>2020-05-09</td>\n",
              "      <td>10713.0</td>\n",
              "      <td>716.0</td>\n",
              "      <td>1323.0</td>\n",
              "      <td>52.0</td>\n",
              "      <td>7.0</td>\n",
              "      <td>8.0</td>\n",
              "    </tr>\n",
              "    <tr>\n",
              "      <th>1574</th>\n",
              "      <td>VC</td>\n",
              "      <td>2020-05-10</td>\n",
              "      <td>10729.0</td>\n",
              "      <td>716.0</td>\n",
              "      <td>1330.0</td>\n",
              "      <td>16.0</td>\n",
              "      <td>0.0</td>\n",
              "      <td>7.0</td>\n",
              "    </tr>\n",
              "    <tr>\n",
              "      <th>1575</th>\n",
              "      <td>VC</td>\n",
              "      <td>2020-05-11</td>\n",
              "      <td>10740.0</td>\n",
              "      <td>717.0</td>\n",
              "      <td>1336.0</td>\n",
              "      <td>11.0</td>\n",
              "      <td>1.0</td>\n",
              "      <td>6.0</td>\n",
              "    </tr>\n",
              "    <tr>\n",
              "      <th>1576</th>\n",
              "      <td>VC</td>\n",
              "      <td>2020-05-12</td>\n",
              "      <td>10760.0</td>\n",
              "      <td>717.0</td>\n",
              "      <td>1341.0</td>\n",
              "      <td>20.0</td>\n",
              "      <td>0.0</td>\n",
              "      <td>5.0</td>\n",
              "    </tr>\n",
              "  </tbody>\n",
              "</table>\n",
              "<p>1577 rows × 8 columns</p>\n",
              "</div>"
            ],
            "text/plain": [
              "     CCAA      FECHA     PCR+  ...  new_cases  new_icare  new_deaths\n",
              "0      AN 2020-02-20      0.0  ...        0.0        0.0         0.0\n",
              "1      AN 2020-02-21      0.0  ...        0.0        0.0         0.0\n",
              "2      AN 2020-02-22      0.0  ...        0.0        0.0         0.0\n",
              "3      AN 2020-02-23      0.0  ...        0.0        0.0         0.0\n",
              "4      AN 2020-02-24      0.0  ...        0.0        0.0         0.0\n",
              "...   ...        ...      ...  ...        ...        ...         ...\n",
              "1572   VC 2020-05-08  10661.0  ...       42.0        3.0         6.0\n",
              "1573   VC 2020-05-09  10713.0  ...       52.0        7.0         8.0\n",
              "1574   VC 2020-05-10  10729.0  ...       16.0        0.0         7.0\n",
              "1575   VC 2020-05-11  10740.0  ...       11.0        1.0         6.0\n",
              "1576   VC 2020-05-12  10760.0  ...       20.0        0.0         5.0\n",
              "\n",
              "[1577 rows x 8 columns]"
            ]
          },
          "metadata": {
            "tags": []
          },
          "execution_count": 210
        }
      ]
    },
    {
      "cell_type": "code",
      "metadata": {
        "id": "heMauqu8KXNe",
        "colab_type": "code",
        "colab": {
          "base_uri": "https://localhost:8080/",
          "height": 680
        },
        "outputId": "9fab99c1-e41d-4f1b-a198-e7b6a3435bb6"
      },
      "source": [
        "dataCCAA.new_cases=dataCCAA.new_cases.mask(dataCCAA.new_cases.lt(0),0)\n",
        "dataCCAA.new_icare=dataCCAA.new_icare.mask(dataCCAA.new_icare.lt(0),0)\n",
        "dataCCAA.new_deaths=dataCCAA.new_deaths.mask(dataCCAA.new_deaths.lt(0),0)\n",
        "dataCCAA.info()\n",
        "dataCCAA"
      ],
      "execution_count": 211,
      "outputs": [
        {
          "output_type": "stream",
          "text": [
            "<class 'pandas.core.frame.DataFrame'>\n",
            "RangeIndex: 1577 entries, 0 to 1576\n",
            "Data columns (total 8 columns):\n",
            " #   Column      Non-Null Count  Dtype         \n",
            "---  ------      --------------  -----         \n",
            " 0   CCAA        1577 non-null   object        \n",
            " 1   FECHA       1577 non-null   datetime64[ns]\n",
            " 2   PCR+        1577 non-null   float64       \n",
            " 3   UCI         1577 non-null   float64       \n",
            " 4   Fallecidos  1577 non-null   float64       \n",
            " 5   new_cases   1577 non-null   float64       \n",
            " 6   new_icare   1577 non-null   float64       \n",
            " 7   new_deaths  1577 non-null   float64       \n",
            "dtypes: datetime64[ns](1), float64(6), object(1)\n",
            "memory usage: 98.7+ KB\n"
          ],
          "name": "stdout"
        },
        {
          "output_type": "execute_result",
          "data": {
            "text/html": [
              "<div>\n",
              "<style scoped>\n",
              "    .dataframe tbody tr th:only-of-type {\n",
              "        vertical-align: middle;\n",
              "    }\n",
              "\n",
              "    .dataframe tbody tr th {\n",
              "        vertical-align: top;\n",
              "    }\n",
              "\n",
              "    .dataframe thead th {\n",
              "        text-align: right;\n",
              "    }\n",
              "</style>\n",
              "<table border=\"1\" class=\"dataframe\">\n",
              "  <thead>\n",
              "    <tr style=\"text-align: right;\">\n",
              "      <th></th>\n",
              "      <th>CCAA</th>\n",
              "      <th>FECHA</th>\n",
              "      <th>PCR+</th>\n",
              "      <th>UCI</th>\n",
              "      <th>Fallecidos</th>\n",
              "      <th>new_cases</th>\n",
              "      <th>new_icare</th>\n",
              "      <th>new_deaths</th>\n",
              "    </tr>\n",
              "  </thead>\n",
              "  <tbody>\n",
              "    <tr>\n",
              "      <th>0</th>\n",
              "      <td>AN</td>\n",
              "      <td>2020-02-20</td>\n",
              "      <td>0.0</td>\n",
              "      <td>0.0</td>\n",
              "      <td>0.0</td>\n",
              "      <td>0.0</td>\n",
              "      <td>0.0</td>\n",
              "      <td>0.0</td>\n",
              "    </tr>\n",
              "    <tr>\n",
              "      <th>1</th>\n",
              "      <td>AN</td>\n",
              "      <td>2020-02-21</td>\n",
              "      <td>0.0</td>\n",
              "      <td>0.0</td>\n",
              "      <td>0.0</td>\n",
              "      <td>0.0</td>\n",
              "      <td>0.0</td>\n",
              "      <td>0.0</td>\n",
              "    </tr>\n",
              "    <tr>\n",
              "      <th>2</th>\n",
              "      <td>AN</td>\n",
              "      <td>2020-02-22</td>\n",
              "      <td>0.0</td>\n",
              "      <td>0.0</td>\n",
              "      <td>0.0</td>\n",
              "      <td>0.0</td>\n",
              "      <td>0.0</td>\n",
              "      <td>0.0</td>\n",
              "    </tr>\n",
              "    <tr>\n",
              "      <th>3</th>\n",
              "      <td>AN</td>\n",
              "      <td>2020-02-23</td>\n",
              "      <td>0.0</td>\n",
              "      <td>0.0</td>\n",
              "      <td>0.0</td>\n",
              "      <td>0.0</td>\n",
              "      <td>0.0</td>\n",
              "      <td>0.0</td>\n",
              "    </tr>\n",
              "    <tr>\n",
              "      <th>4</th>\n",
              "      <td>AN</td>\n",
              "      <td>2020-02-24</td>\n",
              "      <td>0.0</td>\n",
              "      <td>0.0</td>\n",
              "      <td>0.0</td>\n",
              "      <td>0.0</td>\n",
              "      <td>0.0</td>\n",
              "      <td>0.0</td>\n",
              "    </tr>\n",
              "    <tr>\n",
              "      <th>...</th>\n",
              "      <td>...</td>\n",
              "      <td>...</td>\n",
              "      <td>...</td>\n",
              "      <td>...</td>\n",
              "      <td>...</td>\n",
              "      <td>...</td>\n",
              "      <td>...</td>\n",
              "      <td>...</td>\n",
              "    </tr>\n",
              "    <tr>\n",
              "      <th>1572</th>\n",
              "      <td>VC</td>\n",
              "      <td>2020-05-08</td>\n",
              "      <td>10661.0</td>\n",
              "      <td>709.0</td>\n",
              "      <td>1315.0</td>\n",
              "      <td>42.0</td>\n",
              "      <td>3.0</td>\n",
              "      <td>6.0</td>\n",
              "    </tr>\n",
              "    <tr>\n",
              "      <th>1573</th>\n",
              "      <td>VC</td>\n",
              "      <td>2020-05-09</td>\n",
              "      <td>10713.0</td>\n",
              "      <td>716.0</td>\n",
              "      <td>1323.0</td>\n",
              "      <td>52.0</td>\n",
              "      <td>7.0</td>\n",
              "      <td>8.0</td>\n",
              "    </tr>\n",
              "    <tr>\n",
              "      <th>1574</th>\n",
              "      <td>VC</td>\n",
              "      <td>2020-05-10</td>\n",
              "      <td>10729.0</td>\n",
              "      <td>716.0</td>\n",
              "      <td>1330.0</td>\n",
              "      <td>16.0</td>\n",
              "      <td>0.0</td>\n",
              "      <td>7.0</td>\n",
              "    </tr>\n",
              "    <tr>\n",
              "      <th>1575</th>\n",
              "      <td>VC</td>\n",
              "      <td>2020-05-11</td>\n",
              "      <td>10740.0</td>\n",
              "      <td>717.0</td>\n",
              "      <td>1336.0</td>\n",
              "      <td>11.0</td>\n",
              "      <td>1.0</td>\n",
              "      <td>6.0</td>\n",
              "    </tr>\n",
              "    <tr>\n",
              "      <th>1576</th>\n",
              "      <td>VC</td>\n",
              "      <td>2020-05-12</td>\n",
              "      <td>10760.0</td>\n",
              "      <td>717.0</td>\n",
              "      <td>1341.0</td>\n",
              "      <td>20.0</td>\n",
              "      <td>0.0</td>\n",
              "      <td>5.0</td>\n",
              "    </tr>\n",
              "  </tbody>\n",
              "</table>\n",
              "<p>1577 rows × 8 columns</p>\n",
              "</div>"
            ],
            "text/plain": [
              "     CCAA      FECHA     PCR+  ...  new_cases  new_icare  new_deaths\n",
              "0      AN 2020-02-20      0.0  ...        0.0        0.0         0.0\n",
              "1      AN 2020-02-21      0.0  ...        0.0        0.0         0.0\n",
              "2      AN 2020-02-22      0.0  ...        0.0        0.0         0.0\n",
              "3      AN 2020-02-23      0.0  ...        0.0        0.0         0.0\n",
              "4      AN 2020-02-24      0.0  ...        0.0        0.0         0.0\n",
              "...   ...        ...      ...  ...        ...        ...         ...\n",
              "1572   VC 2020-05-08  10661.0  ...       42.0        3.0         6.0\n",
              "1573   VC 2020-05-09  10713.0  ...       52.0        7.0         8.0\n",
              "1574   VC 2020-05-10  10729.0  ...       16.0        0.0         7.0\n",
              "1575   VC 2020-05-11  10740.0  ...       11.0        1.0         6.0\n",
              "1576   VC 2020-05-12  10760.0  ...       20.0        0.0         5.0\n",
              "\n",
              "[1577 rows x 8 columns]"
            ]
          },
          "metadata": {
            "tags": []
          },
          "execution_count": 211
        }
      ]
    },
    {
      "cell_type": "code",
      "metadata": {
        "id": "TlgsmhAx22qy",
        "colab_type": "code",
        "outputId": "1e952d3f-25f0-465c-bfd5-e26c0e68b08b",
        "colab": {
          "base_uri": "https://localhost:8080/",
          "height": 272
        }
      },
      "source": [
        "#data spain\n",
        "dataF = data.groupby(['FECHA']).agg(\n",
        "                                  {'PCR+': 'sum',\n",
        "                                   'UCI': 'sum',\n",
        "                                   'Fallecidos':'sum', \n",
        "                                  }).reset_index()\n",
        "dataF['new_cases'] = dataF['PCR+'].diff()\n",
        "dataF['new_icare'] = dataF['UCI'].diff()\n",
        "dataF['new_deaths'] = dataF['Fallecidos'].diff()\n",
        "dataF.info()"
      ],
      "execution_count": 220,
      "outputs": [
        {
          "output_type": "stream",
          "text": [
            "<class 'pandas.core.frame.DataFrame'>\n",
            "RangeIndex: 83 entries, 0 to 82\n",
            "Data columns (total 7 columns):\n",
            " #   Column      Non-Null Count  Dtype         \n",
            "---  ------      --------------  -----         \n",
            " 0   FECHA       83 non-null     datetime64[ns]\n",
            " 1   PCR+        83 non-null     float64       \n",
            " 2   UCI         83 non-null     float64       \n",
            " 3   Fallecidos  83 non-null     float64       \n",
            " 4   new_cases   82 non-null     float64       \n",
            " 5   new_icare   82 non-null     float64       \n",
            " 6   new_deaths  82 non-null     float64       \n",
            "dtypes: datetime64[ns](1), float64(6)\n",
            "memory usage: 4.7 KB\n"
          ],
          "name": "stdout"
        }
      ]
    },
    {
      "cell_type": "code",
      "metadata": {
        "id": "Q8EPaDY6jSNd",
        "colab_type": "code",
        "outputId": "f28a8886-7018-4924-9fc3-5b0ddccce1d6",
        "colab": {
          "base_uri": "https://localhost:8080/",
          "height": 336
        }
      },
      "source": [
        "#total cases\n",
        "variable = 'PCR+'\n",
        "fig, ax = plt.subplots(figsize=(12, 5))\n",
        "ax.grid()\n",
        "ax.scatter(dataF['FECHA'],dataF[variable])\n",
        "ax.set(xlabel=\"Date\",ylabel=variable,title=variable)\n",
        "date_form = DateFormatter(\"%d-%m\")\n",
        "ax.xaxis.set_major_formatter(date_form)\n",
        "ax.xaxis.set_major_locator(mdates.DayLocator(interval = 3))\n",
        "fig.autofmt_xdate()\n",
        "fig.savefig(variable + '.png')\n",
        "plt.show()"
      ],
      "execution_count": 221,
      "outputs": [
        {
          "output_type": "display_data",
          "data": {
            "image/png": "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\n",
            "text/plain": [
              "<Figure size 864x360 with 1 Axes>"
            ]
          },
          "metadata": {
            "tags": [],
            "needs_background": "light"
          }
        }
      ]
    },
    {
      "cell_type": "code",
      "metadata": {
        "id": "h_T30l2h4ixW",
        "colab_type": "code",
        "outputId": "284fbd8e-622d-420c-c8a4-1a148835612e",
        "colab": {
          "base_uri": "https://localhost:8080/",
          "height": 336
        }
      },
      "source": [
        "#daily cases\n",
        "variable = 'new_cases'\n",
        "fig, ax = plt.subplots(figsize=(12, 5))\n",
        "ax.grid()\n",
        "ax.scatter(dataF['FECHA'],dataF[variable])\n",
        "ax.set(xlabel=\"Date\",ylabel=variable,title=variable)\n",
        "date_form = DateFormatter(\"%d-%m\")\n",
        "ax.xaxis.set_major_formatter(date_form)\n",
        "ax.xaxis.set_major_locator(mdates.DayLocator(interval = 3))\n",
        "fig.autofmt_xdate()\n",
        "fig.savefig(variable + '.png')\n",
        "plt.show()"
      ],
      "execution_count": 222,
      "outputs": [
        {
          "output_type": "display_data",
          "data": {
            "image/png": "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\n",
            "text/plain": [
              "<Figure size 864x360 with 1 Axes>"
            ]
          },
          "metadata": {
            "tags": [],
            "needs_background": "light"
          }
        }
      ]
    },
    {
      "cell_type": "code",
      "metadata": {
        "id": "-ypThJGXouXE",
        "colab_type": "code",
        "outputId": "b6a2ce58-a9d2-4f8c-dff6-f87989bbdca6",
        "colab": {
          "base_uri": "https://localhost:8080/",
          "height": 336
        }
      },
      "source": [
        "#correcting biases\n",
        "rolling_average_days = 7\n",
        "dataF['new_cases_av'] = dataF['new_cases'].rolling(window=rolling_average_days).mean()\n",
        "variable = 'new_cases_av'\n",
        "fig, ax = plt.subplots(figsize=(12, 5))\n",
        "ax.grid()\n",
        "ax.scatter(dataF['FECHA'],dataF[variable])\n",
        "ax.set(xlabel=\"Date\",ylabel=variable,title=variable)\n",
        "date_form = DateFormatter(\"%d-%m\")\n",
        "ax.xaxis.set_major_formatter(date_form)\n",
        "ax.xaxis.set_major_locator(mdates.DayLocator(interval = 3))\n",
        "fig.autofmt_xdate()\n",
        "fig.savefig(variable + '.png')\n",
        "plt.show()\n"
      ],
      "execution_count": 223,
      "outputs": [
        {
          "output_type": "display_data",
          "data": {
            "image/png": "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\n",
            "text/plain": [
              "<Figure size 864x360 with 1 Axes>"
            ]
          },
          "metadata": {
            "tags": [],
            "needs_background": "light"
          }
        }
      ]
    },
    {
      "cell_type": "code",
      "metadata": {
        "id": "A3d9uBJFfRai",
        "colab_type": "code",
        "outputId": "1851680d-1dfb-4ef9-f1b0-6c1bf8143a65",
        "colab": {
          "base_uri": "https://localhost:8080/",
          "height": 672
        }
      },
      "source": [
        "#data format world\n",
        "dataw['date'] = pd.to_datetime(dataw['date'])\n",
        "dataw = dataw.rename(columns={'date': 'FECHA'})\n",
        "dataw.info()"
      ],
      "execution_count": 224,
      "outputs": [
        {
          "output_type": "stream",
          "text": [
            "<class 'pandas.core.frame.DataFrame'>\n",
            "RangeIndex: 17013 entries, 0 to 17012\n",
            "Data columns (total 29 columns):\n",
            " #   Column                    Non-Null Count  Dtype         \n",
            "---  ------                    --------------  -----         \n",
            " 0   iso_code                  16949 non-null  object        \n",
            " 1   location                  17013 non-null  object        \n",
            " 2   FECHA                     17013 non-null  datetime64[ns]\n",
            " 3   total_cases               17013 non-null  int64         \n",
            " 4   new_cases                 17013 non-null  int64         \n",
            " 5   total_deaths              17013 non-null  int64         \n",
            " 6   new_deaths                17013 non-null  int64         \n",
            " 7   total_cases_per_million   16702 non-null  float64       \n",
            " 8   new_cases_per_million     16702 non-null  float64       \n",
            " 9   total_deaths_per_million  16702 non-null  float64       \n",
            " 10  new_deaths_per_million    16702 non-null  float64       \n",
            " 11  total_tests               4318 non-null   float64       \n",
            " 12  new_tests                 3878 non-null   float64       \n",
            " 13  total_tests_per_thousand  4318 non-null   float64       \n",
            " 14  new_tests_per_thousand    3883 non-null   float64       \n",
            " 15  tests_units               4318 non-null   object        \n",
            " 16  population                16780 non-null  float64       \n",
            " 17  population_density        16295 non-null  float64       \n",
            " 18  median_age                15534 non-null  float64       \n",
            " 19  aged_65_older             15330 non-null  float64       \n",
            " 20  aged_70_older             15457 non-null  float64       \n",
            " 21  gdp_per_capita            15339 non-null  float64       \n",
            " 22  extreme_poverty           10226 non-null  float64       \n",
            " 23  cvd_death_rate            15565 non-null  float64       \n",
            " 24  diabetes_prevalence       16026 non-null  float64       \n",
            " 25  female_smokers            12825 non-null  float64       \n",
            " 26  male_smokers              12694 non-null  float64       \n",
            " 27  handwashing_facilities    6635 non-null   float64       \n",
            " 28  hospital_beds_per_100k    14452 non-null  float64       \n",
            "dtypes: datetime64[ns](1), float64(21), int64(4), object(3)\n",
            "memory usage: 3.8+ MB\n"
          ],
          "name": "stdout"
        }
      ]
    },
    {
      "cell_type": "code",
      "metadata": {
        "id": "8oEhYQlPfnyU",
        "colab_type": "code",
        "outputId": "deef8b5c-9867-4041-9d60-06bf845536e4",
        "colab": {
          "base_uri": "https://localhost:8080/",
          "height": 600
        }
      },
      "source": [
        "#data format world-spain\n",
        "dataESP = dataw[dataw['location'] == 'Spain']\n",
        "dataESP"
      ],
      "execution_count": 225,
      "outputs": [
        {
          "output_type": "execute_result",
          "data": {
            "text/html": [
              "<div>\n",
              "<style scoped>\n",
              "    .dataframe tbody tr th:only-of-type {\n",
              "        vertical-align: middle;\n",
              "    }\n",
              "\n",
              "    .dataframe tbody tr th {\n",
              "        vertical-align: top;\n",
              "    }\n",
              "\n",
              "    .dataframe thead th {\n",
              "        text-align: right;\n",
              "    }\n",
              "</style>\n",
              "<table border=\"1\" class=\"dataframe\">\n",
              "  <thead>\n",
              "    <tr style=\"text-align: right;\">\n",
              "      <th></th>\n",
              "      <th>iso_code</th>\n",
              "      <th>location</th>\n",
              "      <th>FECHA</th>\n",
              "      <th>total_cases</th>\n",
              "      <th>new_cases</th>\n",
              "      <th>total_deaths</th>\n",
              "      <th>new_deaths</th>\n",
              "      <th>total_cases_per_million</th>\n",
              "      <th>new_cases_per_million</th>\n",
              "      <th>total_deaths_per_million</th>\n",
              "      <th>new_deaths_per_million</th>\n",
              "      <th>total_tests</th>\n",
              "      <th>new_tests</th>\n",
              "      <th>total_tests_per_thousand</th>\n",
              "      <th>new_tests_per_thousand</th>\n",
              "      <th>tests_units</th>\n",
              "      <th>population</th>\n",
              "      <th>population_density</th>\n",
              "      <th>median_age</th>\n",
              "      <th>aged_65_older</th>\n",
              "      <th>aged_70_older</th>\n",
              "      <th>gdp_per_capita</th>\n",
              "      <th>extreme_poverty</th>\n",
              "      <th>cvd_death_rate</th>\n",
              "      <th>diabetes_prevalence</th>\n",
              "      <th>female_smokers</th>\n",
              "      <th>male_smokers</th>\n",
              "      <th>handwashing_facilities</th>\n",
              "      <th>hospital_beds_per_100k</th>\n",
              "    </tr>\n",
              "  </thead>\n",
              "  <tbody>\n",
              "    <tr>\n",
              "      <th>4876</th>\n",
              "      <td>ESP</td>\n",
              "      <td>Spain</td>\n",
              "      <td>2019-12-31</td>\n",
              "      <td>0</td>\n",
              "      <td>0</td>\n",
              "      <td>0</td>\n",
              "      <td>0</td>\n",
              "      <td>0.000</td>\n",
              "      <td>0.000</td>\n",
              "      <td>0.000</td>\n",
              "      <td>0.000</td>\n",
              "      <td>NaN</td>\n",
              "      <td>NaN</td>\n",
              "      <td>NaN</td>\n",
              "      <td>NaN</td>\n",
              "      <td>NaN</td>\n",
              "      <td>46754783.0</td>\n",
              "      <td>93.105</td>\n",
              "      <td>45.5</td>\n",
              "      <td>19.436</td>\n",
              "      <td>13.799</td>\n",
              "      <td>34272.36</td>\n",
              "      <td>1.0</td>\n",
              "      <td>99.403</td>\n",
              "      <td>7.17</td>\n",
              "      <td>27.4</td>\n",
              "      <td>31.4</td>\n",
              "      <td>NaN</td>\n",
              "      <td>2.97</td>\n",
              "    </tr>\n",
              "    <tr>\n",
              "      <th>4877</th>\n",
              "      <td>ESP</td>\n",
              "      <td>Spain</td>\n",
              "      <td>2020-01-01</td>\n",
              "      <td>0</td>\n",
              "      <td>0</td>\n",
              "      <td>0</td>\n",
              "      <td>0</td>\n",
              "      <td>0.000</td>\n",
              "      <td>0.000</td>\n",
              "      <td>0.000</td>\n",
              "      <td>0.000</td>\n",
              "      <td>NaN</td>\n",
              "      <td>NaN</td>\n",
              "      <td>NaN</td>\n",
              "      <td>NaN</td>\n",
              "      <td>NaN</td>\n",
              "      <td>46754783.0</td>\n",
              "      <td>93.105</td>\n",
              "      <td>45.5</td>\n",
              "      <td>19.436</td>\n",
              "      <td>13.799</td>\n",
              "      <td>34272.36</td>\n",
              "      <td>1.0</td>\n",
              "      <td>99.403</td>\n",
              "      <td>7.17</td>\n",
              "      <td>27.4</td>\n",
              "      <td>31.4</td>\n",
              "      <td>NaN</td>\n",
              "      <td>2.97</td>\n",
              "    </tr>\n",
              "    <tr>\n",
              "      <th>4878</th>\n",
              "      <td>ESP</td>\n",
              "      <td>Spain</td>\n",
              "      <td>2020-01-02</td>\n",
              "      <td>0</td>\n",
              "      <td>0</td>\n",
              "      <td>0</td>\n",
              "      <td>0</td>\n",
              "      <td>0.000</td>\n",
              "      <td>0.000</td>\n",
              "      <td>0.000</td>\n",
              "      <td>0.000</td>\n",
              "      <td>NaN</td>\n",
              "      <td>NaN</td>\n",
              "      <td>NaN</td>\n",
              "      <td>NaN</td>\n",
              "      <td>NaN</td>\n",
              "      <td>46754783.0</td>\n",
              "      <td>93.105</td>\n",
              "      <td>45.5</td>\n",
              "      <td>19.436</td>\n",
              "      <td>13.799</td>\n",
              "      <td>34272.36</td>\n",
              "      <td>1.0</td>\n",
              "      <td>99.403</td>\n",
              "      <td>7.17</td>\n",
              "      <td>27.4</td>\n",
              "      <td>31.4</td>\n",
              "      <td>NaN</td>\n",
              "      <td>2.97</td>\n",
              "    </tr>\n",
              "    <tr>\n",
              "      <th>4879</th>\n",
              "      <td>ESP</td>\n",
              "      <td>Spain</td>\n",
              "      <td>2020-01-03</td>\n",
              "      <td>0</td>\n",
              "      <td>0</td>\n",
              "      <td>0</td>\n",
              "      <td>0</td>\n",
              "      <td>0.000</td>\n",
              "      <td>0.000</td>\n",
              "      <td>0.000</td>\n",
              "      <td>0.000</td>\n",
              "      <td>NaN</td>\n",
              "      <td>NaN</td>\n",
              "      <td>NaN</td>\n",
              "      <td>NaN</td>\n",
              "      <td>NaN</td>\n",
              "      <td>46754783.0</td>\n",
              "      <td>93.105</td>\n",
              "      <td>45.5</td>\n",
              "      <td>19.436</td>\n",
              "      <td>13.799</td>\n",
              "      <td>34272.36</td>\n",
              "      <td>1.0</td>\n",
              "      <td>99.403</td>\n",
              "      <td>7.17</td>\n",
              "      <td>27.4</td>\n",
              "      <td>31.4</td>\n",
              "      <td>NaN</td>\n",
              "      <td>2.97</td>\n",
              "    </tr>\n",
              "    <tr>\n",
              "      <th>4880</th>\n",
              "      <td>ESP</td>\n",
              "      <td>Spain</td>\n",
              "      <td>2020-01-04</td>\n",
              "      <td>0</td>\n",
              "      <td>0</td>\n",
              "      <td>0</td>\n",
              "      <td>0</td>\n",
              "      <td>0.000</td>\n",
              "      <td>0.000</td>\n",
              "      <td>0.000</td>\n",
              "      <td>0.000</td>\n",
              "      <td>NaN</td>\n",
              "      <td>NaN</td>\n",
              "      <td>NaN</td>\n",
              "      <td>NaN</td>\n",
              "      <td>NaN</td>\n",
              "      <td>46754783.0</td>\n",
              "      <td>93.105</td>\n",
              "      <td>45.5</td>\n",
              "      <td>19.436</td>\n",
              "      <td>13.799</td>\n",
              "      <td>34272.36</td>\n",
              "      <td>1.0</td>\n",
              "      <td>99.403</td>\n",
              "      <td>7.17</td>\n",
              "      <td>27.4</td>\n",
              "      <td>31.4</td>\n",
              "      <td>NaN</td>\n",
              "      <td>2.97</td>\n",
              "    </tr>\n",
              "    <tr>\n",
              "      <th>...</th>\n",
              "      <td>...</td>\n",
              "      <td>...</td>\n",
              "      <td>...</td>\n",
              "      <td>...</td>\n",
              "      <td>...</td>\n",
              "      <td>...</td>\n",
              "      <td>...</td>\n",
              "      <td>...</td>\n",
              "      <td>...</td>\n",
              "      <td>...</td>\n",
              "      <td>...</td>\n",
              "      <td>...</td>\n",
              "      <td>...</td>\n",
              "      <td>...</td>\n",
              "      <td>...</td>\n",
              "      <td>...</td>\n",
              "      <td>...</td>\n",
              "      <td>...</td>\n",
              "      <td>...</td>\n",
              "      <td>...</td>\n",
              "      <td>...</td>\n",
              "      <td>...</td>\n",
              "      <td>...</td>\n",
              "      <td>...</td>\n",
              "      <td>...</td>\n",
              "      <td>...</td>\n",
              "      <td>...</td>\n",
              "      <td>...</td>\n",
              "      <td>...</td>\n",
              "    </tr>\n",
              "    <tr>\n",
              "      <th>5005</th>\n",
              "      <td>ESP</td>\n",
              "      <td>Spain</td>\n",
              "      <td>2020-05-08</td>\n",
              "      <td>222857</td>\n",
              "      <td>1410</td>\n",
              "      <td>26251</td>\n",
              "      <td>181</td>\n",
              "      <td>4766.507</td>\n",
              "      <td>30.157</td>\n",
              "      <td>561.461</td>\n",
              "      <td>3.871</td>\n",
              "      <td>NaN</td>\n",
              "      <td>NaN</td>\n",
              "      <td>NaN</td>\n",
              "      <td>NaN</td>\n",
              "      <td>NaN</td>\n",
              "      <td>46754783.0</td>\n",
              "      <td>93.105</td>\n",
              "      <td>45.5</td>\n",
              "      <td>19.436</td>\n",
              "      <td>13.799</td>\n",
              "      <td>34272.36</td>\n",
              "      <td>1.0</td>\n",
              "      <td>99.403</td>\n",
              "      <td>7.17</td>\n",
              "      <td>27.4</td>\n",
              "      <td>31.4</td>\n",
              "      <td>NaN</td>\n",
              "      <td>2.97</td>\n",
              "    </tr>\n",
              "    <tr>\n",
              "      <th>5006</th>\n",
              "      <td>ESP</td>\n",
              "      <td>Spain</td>\n",
              "      <td>2020-05-09</td>\n",
              "      <td>223578</td>\n",
              "      <td>721</td>\n",
              "      <td>26478</td>\n",
              "      <td>227</td>\n",
              "      <td>4781.928</td>\n",
              "      <td>15.421</td>\n",
              "      <td>566.316</td>\n",
              "      <td>4.855</td>\n",
              "      <td>NaN</td>\n",
              "      <td>NaN</td>\n",
              "      <td>NaN</td>\n",
              "      <td>NaN</td>\n",
              "      <td>NaN</td>\n",
              "      <td>46754783.0</td>\n",
              "      <td>93.105</td>\n",
              "      <td>45.5</td>\n",
              "      <td>19.436</td>\n",
              "      <td>13.799</td>\n",
              "      <td>34272.36</td>\n",
              "      <td>1.0</td>\n",
              "      <td>99.403</td>\n",
              "      <td>7.17</td>\n",
              "      <td>27.4</td>\n",
              "      <td>31.4</td>\n",
              "      <td>NaN</td>\n",
              "      <td>2.97</td>\n",
              "    </tr>\n",
              "    <tr>\n",
              "      <th>5007</th>\n",
              "      <td>ESP</td>\n",
              "      <td>Spain</td>\n",
              "      <td>2020-05-10</td>\n",
              "      <td>224390</td>\n",
              "      <td>812</td>\n",
              "      <td>26621</td>\n",
              "      <td>143</td>\n",
              "      <td>4799.295</td>\n",
              "      <td>17.367</td>\n",
              "      <td>569.375</td>\n",
              "      <td>3.059</td>\n",
              "      <td>NaN</td>\n",
              "      <td>NaN</td>\n",
              "      <td>NaN</td>\n",
              "      <td>NaN</td>\n",
              "      <td>NaN</td>\n",
              "      <td>46754783.0</td>\n",
              "      <td>93.105</td>\n",
              "      <td>45.5</td>\n",
              "      <td>19.436</td>\n",
              "      <td>13.799</td>\n",
              "      <td>34272.36</td>\n",
              "      <td>1.0</td>\n",
              "      <td>99.403</td>\n",
              "      <td>7.17</td>\n",
              "      <td>27.4</td>\n",
              "      <td>31.4</td>\n",
              "      <td>NaN</td>\n",
              "      <td>2.97</td>\n",
              "    </tr>\n",
              "    <tr>\n",
              "      <th>5008</th>\n",
              "      <td>ESP</td>\n",
              "      <td>Spain</td>\n",
              "      <td>2020-05-11</td>\n",
              "      <td>227436</td>\n",
              "      <td>3046</td>\n",
              "      <td>26744</td>\n",
              "      <td>123</td>\n",
              "      <td>4864.443</td>\n",
              "      <td>65.148</td>\n",
              "      <td>572.006</td>\n",
              "      <td>2.631</td>\n",
              "      <td>NaN</td>\n",
              "      <td>NaN</td>\n",
              "      <td>NaN</td>\n",
              "      <td>NaN</td>\n",
              "      <td>NaN</td>\n",
              "      <td>46754783.0</td>\n",
              "      <td>93.105</td>\n",
              "      <td>45.5</td>\n",
              "      <td>19.436</td>\n",
              "      <td>13.799</td>\n",
              "      <td>34272.36</td>\n",
              "      <td>1.0</td>\n",
              "      <td>99.403</td>\n",
              "      <td>7.17</td>\n",
              "      <td>27.4</td>\n",
              "      <td>31.4</td>\n",
              "      <td>NaN</td>\n",
              "      <td>2.97</td>\n",
              "    </tr>\n",
              "    <tr>\n",
              "      <th>5009</th>\n",
              "      <td>ESP</td>\n",
              "      <td>Spain</td>\n",
              "      <td>2020-05-12</td>\n",
              "      <td>228030</td>\n",
              "      <td>594</td>\n",
              "      <td>26920</td>\n",
              "      <td>176</td>\n",
              "      <td>4877.148</td>\n",
              "      <td>12.705</td>\n",
              "      <td>575.770</td>\n",
              "      <td>3.764</td>\n",
              "      <td>NaN</td>\n",
              "      <td>NaN</td>\n",
              "      <td>NaN</td>\n",
              "      <td>NaN</td>\n",
              "      <td>NaN</td>\n",
              "      <td>46754783.0</td>\n",
              "      <td>93.105</td>\n",
              "      <td>45.5</td>\n",
              "      <td>19.436</td>\n",
              "      <td>13.799</td>\n",
              "      <td>34272.36</td>\n",
              "      <td>1.0</td>\n",
              "      <td>99.403</td>\n",
              "      <td>7.17</td>\n",
              "      <td>27.4</td>\n",
              "      <td>31.4</td>\n",
              "      <td>NaN</td>\n",
              "      <td>2.97</td>\n",
              "    </tr>\n",
              "  </tbody>\n",
              "</table>\n",
              "<p>134 rows × 29 columns</p>\n",
              "</div>"
            ],
            "text/plain": [
              "     iso_code location  ... handwashing_facilities  hospital_beds_per_100k\n",
              "4876      ESP    Spain  ...                    NaN                    2.97\n",
              "4877      ESP    Spain  ...                    NaN                    2.97\n",
              "4878      ESP    Spain  ...                    NaN                    2.97\n",
              "4879      ESP    Spain  ...                    NaN                    2.97\n",
              "4880      ESP    Spain  ...                    NaN                    2.97\n",
              "...       ...      ...  ...                    ...                     ...\n",
              "5005      ESP    Spain  ...                    NaN                    2.97\n",
              "5006      ESP    Spain  ...                    NaN                    2.97\n",
              "5007      ESP    Spain  ...                    NaN                    2.97\n",
              "5008      ESP    Spain  ...                    NaN                    2.97\n",
              "5009      ESP    Spain  ...                    NaN                    2.97\n",
              "\n",
              "[134 rows x 29 columns]"
            ]
          },
          "metadata": {
            "tags": []
          },
          "execution_count": 225
        }
      ]
    },
    {
      "cell_type": "code",
      "metadata": {
        "id": "tm4mlTsrfzKw",
        "colab_type": "code",
        "outputId": "724af64a-d046-4581-b621-ae8efcac3ec4",
        "colab": {
          "base_uri": "https://localhost:8080/",
          "height": 407
        }
      },
      "source": [
        "#data spain + world-spain\n",
        "datatest = dataF.merge(dataESP[['FECHA','total_tests']], on=['FECHA'])\n",
        "datatest"
      ],
      "execution_count": 226,
      "outputs": [
        {
          "output_type": "execute_result",
          "data": {
            "text/html": [
              "<div>\n",
              "<style scoped>\n",
              "    .dataframe tbody tr th:only-of-type {\n",
              "        vertical-align: middle;\n",
              "    }\n",
              "\n",
              "    .dataframe tbody tr th {\n",
              "        vertical-align: top;\n",
              "    }\n",
              "\n",
              "    .dataframe thead th {\n",
              "        text-align: right;\n",
              "    }\n",
              "</style>\n",
              "<table border=\"1\" class=\"dataframe\">\n",
              "  <thead>\n",
              "    <tr style=\"text-align: right;\">\n",
              "      <th></th>\n",
              "      <th>FECHA</th>\n",
              "      <th>PCR+</th>\n",
              "      <th>UCI</th>\n",
              "      <th>Fallecidos</th>\n",
              "      <th>new_cases</th>\n",
              "      <th>new_icare</th>\n",
              "      <th>new_deaths</th>\n",
              "      <th>new_cases_av</th>\n",
              "      <th>total_tests</th>\n",
              "    </tr>\n",
              "  </thead>\n",
              "  <tbody>\n",
              "    <tr>\n",
              "      <th>0</th>\n",
              "      <td>2020-02-20</td>\n",
              "      <td>2.0</td>\n",
              "      <td>0.0</td>\n",
              "      <td>0.0</td>\n",
              "      <td>NaN</td>\n",
              "      <td>NaN</td>\n",
              "      <td>NaN</td>\n",
              "      <td>NaN</td>\n",
              "      <td>NaN</td>\n",
              "    </tr>\n",
              "    <tr>\n",
              "      <th>1</th>\n",
              "      <td>2020-02-21</td>\n",
              "      <td>2.0</td>\n",
              "      <td>1.0</td>\n",
              "      <td>0.0</td>\n",
              "      <td>0.0</td>\n",
              "      <td>1.0</td>\n",
              "      <td>0.0</td>\n",
              "      <td>NaN</td>\n",
              "      <td>NaN</td>\n",
              "    </tr>\n",
              "    <tr>\n",
              "      <th>2</th>\n",
              "      <td>2020-02-22</td>\n",
              "      <td>2.0</td>\n",
              "      <td>1.0</td>\n",
              "      <td>0.0</td>\n",
              "      <td>0.0</td>\n",
              "      <td>0.0</td>\n",
              "      <td>0.0</td>\n",
              "      <td>NaN</td>\n",
              "      <td>NaN</td>\n",
              "    </tr>\n",
              "    <tr>\n",
              "      <th>3</th>\n",
              "      <td>2020-02-23</td>\n",
              "      <td>2.0</td>\n",
              "      <td>2.0</td>\n",
              "      <td>0.0</td>\n",
              "      <td>0.0</td>\n",
              "      <td>1.0</td>\n",
              "      <td>0.0</td>\n",
              "      <td>NaN</td>\n",
              "      <td>NaN</td>\n",
              "    </tr>\n",
              "    <tr>\n",
              "      <th>4</th>\n",
              "      <td>2020-02-24</td>\n",
              "      <td>3.0</td>\n",
              "      <td>2.0</td>\n",
              "      <td>0.0</td>\n",
              "      <td>1.0</td>\n",
              "      <td>0.0</td>\n",
              "      <td>0.0</td>\n",
              "      <td>NaN</td>\n",
              "      <td>NaN</td>\n",
              "    </tr>\n",
              "    <tr>\n",
              "      <th>...</th>\n",
              "      <td>...</td>\n",
              "      <td>...</td>\n",
              "      <td>...</td>\n",
              "      <td>...</td>\n",
              "      <td>...</td>\n",
              "      <td>...</td>\n",
              "      <td>...</td>\n",
              "      <td>...</td>\n",
              "      <td>...</td>\n",
              "    </tr>\n",
              "    <tr>\n",
              "      <th>78</th>\n",
              "      <td>2020-05-08</td>\n",
              "      <td>223961.0</td>\n",
              "      <td>11292.0</td>\n",
              "      <td>26478.0</td>\n",
              "      <td>743.0</td>\n",
              "      <td>70.0</td>\n",
              "      <td>179.0</td>\n",
              "      <td>879.571429</td>\n",
              "      <td>NaN</td>\n",
              "    </tr>\n",
              "    <tr>\n",
              "      <th>79</th>\n",
              "      <td>2020-05-09</td>\n",
              "      <td>227377.0</td>\n",
              "      <td>11328.0</td>\n",
              "      <td>26621.0</td>\n",
              "      <td>3416.0</td>\n",
              "      <td>36.0</td>\n",
              "      <td>143.0</td>\n",
              "      <td>1234.000000</td>\n",
              "      <td>NaN</td>\n",
              "    </tr>\n",
              "    <tr>\n",
              "      <th>80</th>\n",
              "      <td>2020-05-10</td>\n",
              "      <td>227770.0</td>\n",
              "      <td>11348.0</td>\n",
              "      <td>26744.0</td>\n",
              "      <td>393.0</td>\n",
              "      <td>20.0</td>\n",
              "      <td>123.0</td>\n",
              "      <td>1223.571429</td>\n",
              "      <td>NaN</td>\n",
              "    </tr>\n",
              "    <tr>\n",
              "      <th>81</th>\n",
              "      <td>2020-05-11</td>\n",
              "      <td>228252.0</td>\n",
              "      <td>11371.0</td>\n",
              "      <td>26920.0</td>\n",
              "      <td>482.0</td>\n",
              "      <td>23.0</td>\n",
              "      <td>176.0</td>\n",
              "      <td>1144.000000</td>\n",
              "      <td>NaN</td>\n",
              "    </tr>\n",
              "    <tr>\n",
              "      <th>82</th>\n",
              "      <td>2020-05-12</td>\n",
              "      <td>228691.0</td>\n",
              "      <td>11436.0</td>\n",
              "      <td>27104.0</td>\n",
              "      <td>439.0</td>\n",
              "      <td>65.0</td>\n",
              "      <td>184.0</td>\n",
              "      <td>1081.000000</td>\n",
              "      <td>NaN</td>\n",
              "    </tr>\n",
              "  </tbody>\n",
              "</table>\n",
              "<p>83 rows × 9 columns</p>\n",
              "</div>"
            ],
            "text/plain": [
              "        FECHA      PCR+      UCI  ...  new_deaths  new_cases_av  total_tests\n",
              "0  2020-02-20       2.0      0.0  ...         NaN           NaN          NaN\n",
              "1  2020-02-21       2.0      1.0  ...         0.0           NaN          NaN\n",
              "2  2020-02-22       2.0      1.0  ...         0.0           NaN          NaN\n",
              "3  2020-02-23       2.0      2.0  ...         0.0           NaN          NaN\n",
              "4  2020-02-24       3.0      2.0  ...         0.0           NaN          NaN\n",
              "..        ...       ...      ...  ...         ...           ...          ...\n",
              "78 2020-05-08  223961.0  11292.0  ...       179.0    879.571429          NaN\n",
              "79 2020-05-09  227377.0  11328.0  ...       143.0   1234.000000          NaN\n",
              "80 2020-05-10  227770.0  11348.0  ...       123.0   1223.571429          NaN\n",
              "81 2020-05-11  228252.0  11371.0  ...       176.0   1144.000000          NaN\n",
              "82 2020-05-12  228691.0  11436.0  ...       184.0   1081.000000          NaN\n",
              "\n",
              "[83 rows x 9 columns]"
            ]
          },
          "metadata": {
            "tags": []
          },
          "execution_count": 226
        }
      ]
    },
    {
      "cell_type": "code",
      "metadata": {
        "id": "Ix1A26hSgC5-",
        "colab_type": "code",
        "outputId": "1342d4f4-11a2-411f-ca6a-d74ae1be7980",
        "colab": {
          "base_uri": "https://localhost:8080/",
          "height": 407
        }
      },
      "source": [
        "#test spain interpolation\n",
        "datatest['total_tests'].interpolate(method=\"linear\", limit_area='inside', inplace=True)\n",
        "datatest"
      ],
      "execution_count": 227,
      "outputs": [
        {
          "output_type": "execute_result",
          "data": {
            "text/html": [
              "<div>\n",
              "<style scoped>\n",
              "    .dataframe tbody tr th:only-of-type {\n",
              "        vertical-align: middle;\n",
              "    }\n",
              "\n",
              "    .dataframe tbody tr th {\n",
              "        vertical-align: top;\n",
              "    }\n",
              "\n",
              "    .dataframe thead th {\n",
              "        text-align: right;\n",
              "    }\n",
              "</style>\n",
              "<table border=\"1\" class=\"dataframe\">\n",
              "  <thead>\n",
              "    <tr style=\"text-align: right;\">\n",
              "      <th></th>\n",
              "      <th>FECHA</th>\n",
              "      <th>PCR+</th>\n",
              "      <th>UCI</th>\n",
              "      <th>Fallecidos</th>\n",
              "      <th>new_cases</th>\n",
              "      <th>new_icare</th>\n",
              "      <th>new_deaths</th>\n",
              "      <th>new_cases_av</th>\n",
              "      <th>total_tests</th>\n",
              "    </tr>\n",
              "  </thead>\n",
              "  <tbody>\n",
              "    <tr>\n",
              "      <th>0</th>\n",
              "      <td>2020-02-20</td>\n",
              "      <td>2.0</td>\n",
              "      <td>0.0</td>\n",
              "      <td>0.0</td>\n",
              "      <td>NaN</td>\n",
              "      <td>NaN</td>\n",
              "      <td>NaN</td>\n",
              "      <td>NaN</td>\n",
              "      <td>NaN</td>\n",
              "    </tr>\n",
              "    <tr>\n",
              "      <th>1</th>\n",
              "      <td>2020-02-21</td>\n",
              "      <td>2.0</td>\n",
              "      <td>1.0</td>\n",
              "      <td>0.0</td>\n",
              "      <td>0.0</td>\n",
              "      <td>1.0</td>\n",
              "      <td>0.0</td>\n",
              "      <td>NaN</td>\n",
              "      <td>NaN</td>\n",
              "    </tr>\n",
              "    <tr>\n",
              "      <th>2</th>\n",
              "      <td>2020-02-22</td>\n",
              "      <td>2.0</td>\n",
              "      <td>1.0</td>\n",
              "      <td>0.0</td>\n",
              "      <td>0.0</td>\n",
              "      <td>0.0</td>\n",
              "      <td>0.0</td>\n",
              "      <td>NaN</td>\n",
              "      <td>NaN</td>\n",
              "    </tr>\n",
              "    <tr>\n",
              "      <th>3</th>\n",
              "      <td>2020-02-23</td>\n",
              "      <td>2.0</td>\n",
              "      <td>2.0</td>\n",
              "      <td>0.0</td>\n",
              "      <td>0.0</td>\n",
              "      <td>1.0</td>\n",
              "      <td>0.0</td>\n",
              "      <td>NaN</td>\n",
              "      <td>NaN</td>\n",
              "    </tr>\n",
              "    <tr>\n",
              "      <th>4</th>\n",
              "      <td>2020-02-24</td>\n",
              "      <td>3.0</td>\n",
              "      <td>2.0</td>\n",
              "      <td>0.0</td>\n",
              "      <td>1.0</td>\n",
              "      <td>0.0</td>\n",
              "      <td>0.0</td>\n",
              "      <td>NaN</td>\n",
              "      <td>NaN</td>\n",
              "    </tr>\n",
              "    <tr>\n",
              "      <th>...</th>\n",
              "      <td>...</td>\n",
              "      <td>...</td>\n",
              "      <td>...</td>\n",
              "      <td>...</td>\n",
              "      <td>...</td>\n",
              "      <td>...</td>\n",
              "      <td>...</td>\n",
              "      <td>...</td>\n",
              "      <td>...</td>\n",
              "    </tr>\n",
              "    <tr>\n",
              "      <th>78</th>\n",
              "      <td>2020-05-08</td>\n",
              "      <td>223961.0</td>\n",
              "      <td>11292.0</td>\n",
              "      <td>26478.0</td>\n",
              "      <td>743.0</td>\n",
              "      <td>70.0</td>\n",
              "      <td>179.0</td>\n",
              "      <td>879.571429</td>\n",
              "      <td>NaN</td>\n",
              "    </tr>\n",
              "    <tr>\n",
              "      <th>79</th>\n",
              "      <td>2020-05-09</td>\n",
              "      <td>227377.0</td>\n",
              "      <td>11328.0</td>\n",
              "      <td>26621.0</td>\n",
              "      <td>3416.0</td>\n",
              "      <td>36.0</td>\n",
              "      <td>143.0</td>\n",
              "      <td>1234.000000</td>\n",
              "      <td>NaN</td>\n",
              "    </tr>\n",
              "    <tr>\n",
              "      <th>80</th>\n",
              "      <td>2020-05-10</td>\n",
              "      <td>227770.0</td>\n",
              "      <td>11348.0</td>\n",
              "      <td>26744.0</td>\n",
              "      <td>393.0</td>\n",
              "      <td>20.0</td>\n",
              "      <td>123.0</td>\n",
              "      <td>1223.571429</td>\n",
              "      <td>NaN</td>\n",
              "    </tr>\n",
              "    <tr>\n",
              "      <th>81</th>\n",
              "      <td>2020-05-11</td>\n",
              "      <td>228252.0</td>\n",
              "      <td>11371.0</td>\n",
              "      <td>26920.0</td>\n",
              "      <td>482.0</td>\n",
              "      <td>23.0</td>\n",
              "      <td>176.0</td>\n",
              "      <td>1144.000000</td>\n",
              "      <td>NaN</td>\n",
              "    </tr>\n",
              "    <tr>\n",
              "      <th>82</th>\n",
              "      <td>2020-05-12</td>\n",
              "      <td>228691.0</td>\n",
              "      <td>11436.0</td>\n",
              "      <td>27104.0</td>\n",
              "      <td>439.0</td>\n",
              "      <td>65.0</td>\n",
              "      <td>184.0</td>\n",
              "      <td>1081.000000</td>\n",
              "      <td>NaN</td>\n",
              "    </tr>\n",
              "  </tbody>\n",
              "</table>\n",
              "<p>83 rows × 9 columns</p>\n",
              "</div>"
            ],
            "text/plain": [
              "        FECHA      PCR+      UCI  ...  new_deaths  new_cases_av  total_tests\n",
              "0  2020-02-20       2.0      0.0  ...         NaN           NaN          NaN\n",
              "1  2020-02-21       2.0      1.0  ...         0.0           NaN          NaN\n",
              "2  2020-02-22       2.0      1.0  ...         0.0           NaN          NaN\n",
              "3  2020-02-23       2.0      2.0  ...         0.0           NaN          NaN\n",
              "4  2020-02-24       3.0      2.0  ...         0.0           NaN          NaN\n",
              "..        ...       ...      ...  ...         ...           ...          ...\n",
              "78 2020-05-08  223961.0  11292.0  ...       179.0    879.571429          NaN\n",
              "79 2020-05-09  227377.0  11328.0  ...       143.0   1234.000000          NaN\n",
              "80 2020-05-10  227770.0  11348.0  ...       123.0   1223.571429          NaN\n",
              "81 2020-05-11  228252.0  11371.0  ...       176.0   1144.000000          NaN\n",
              "82 2020-05-12  228691.0  11436.0  ...       184.0   1081.000000          NaN\n",
              "\n",
              "[83 rows x 9 columns]"
            ]
          },
          "metadata": {
            "tags": []
          },
          "execution_count": 227
        }
      ]
    },
    {
      "cell_type": "code",
      "metadata": {
        "id": "jU4aYodVgMhh",
        "colab_type": "code",
        "outputId": "8290a808-8321-462e-f18e-2c23c416b9a6",
        "colab": {
          "base_uri": "https://localhost:8080/",
          "height": 350
        }
      },
      "source": [
        "#total test\n",
        "variable = 'total_tests'\n",
        "fig, ax = plt.subplots(figsize=(12, 5))\n",
        "ax.grid()\n",
        "ax.scatter(datatest['FECHA'],datatest[variable])\n",
        "ax.set(xlabel=\"Date\",ylabel=variable,title=variable)\n",
        "date_form = DateFormatter(\"%d-%m\")\n",
        "ax.xaxis.set_major_formatter(date_form)\n",
        "ax.xaxis.set_major_locator(mdates.DayLocator(interval = 3))\n",
        "fig.savefig(variable + '.png')\n",
        "plt.show()\n"
      ],
      "execution_count": 228,
      "outputs": [
        {
          "output_type": "display_data",
          "data": {
            "image/png": "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\n",
            "text/plain": [
              "<Figure size 864x360 with 1 Axes>"
            ]
          },
          "metadata": {
            "tags": [],
            "needs_background": "light"
          }
        }
      ]
    },
    {
      "cell_type": "code",
      "metadata": {
        "id": "coRq9fMDgZOC",
        "colab_type": "code",
        "outputId": "0714d5ba-6f60-4cd5-b1a5-4b6f7568e9ca",
        "colab": {
          "base_uri": "https://localhost:8080/",
          "height": 350
        }
      },
      "source": [
        "#total daily tests correcting biases\n",
        "rolling_average_days = 7\n",
        "datatest['daily_tests_av'] = datatest['total_tests'].diff().rolling(window=rolling_average_days).mean()\n",
        "variable = 'daily_tests_av'\n",
        "fig, ax = plt.subplots(figsize=(12, 5))\n",
        "ax.grid()\n",
        "ax.scatter(datatest['FECHA'],datatest[variable])\n",
        "ax.set(xlabel=\"Date\",ylabel=variable,title=variable)\n",
        "date_form = DateFormatter(\"%d-%m\")\n",
        "ax.xaxis.set_major_formatter(date_form)\n",
        "ax.xaxis.set_major_locator(mdates.DayLocator(interval = 3))\n",
        "fig.savefig(variable + '.png')\n",
        "plt.show()\n"
      ],
      "execution_count": 229,
      "outputs": [
        {
          "output_type": "display_data",
          "data": {
            "image/png": "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\n",
            "text/plain": [
              "<Figure size 864x360 with 1 Axes>"
            ]
          },
          "metadata": {
            "tags": [],
            "needs_background": "light"
          }
        }
      ]
    },
    {
      "cell_type": "code",
      "metadata": {
        "id": "-t2dXF2KlZcP",
        "colab_type": "code",
        "outputId": "ab4363ee-6262-4b65-e603-7378e2c41839",
        "colab": {
          "base_uri": "https://localhost:8080/",
          "height": 350
        }
      },
      "source": [
        "#percentage of new positive over the total daily tests\n",
        "dataF['perc_positive'] = ((dataF['new_cases_av'])/(datatest['daily_tests_av'])*100)\n",
        "variable = 'perc_positive'\n",
        "fig, ax = plt.subplots(figsize=(12, 5))\n",
        "ax.grid()\n",
        "ax.scatter(dataF['FECHA'],dataF[variable])\n",
        "ax.set(xlabel=\"Date\",ylabel=variable,title=variable)\n",
        "date_form = DateFormatter(\"%d-%m\")\n",
        "ax.xaxis.set_major_formatter(date_form)\n",
        "ax.xaxis.set_major_locator(mdates.DayLocator(interval = 3))\n",
        "fig.savefig(variable + '.png')\n",
        "plt.show()\n"
      ],
      "execution_count": 230,
      "outputs": [
        {
          "output_type": "display_data",
          "data": {
            "image/png": "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\n",
            "text/plain": [
              "<Figure size 864x360 with 1 Axes>"
            ]
          },
          "metadata": {
            "tags": [],
            "needs_background": "light"
          }
        }
      ]
    },
    {
      "cell_type": "code",
      "metadata": {
        "id": "JlDbYhsW2EY6",
        "colab_type": "code",
        "outputId": "8a084afd-f72e-42f1-9fab-9f73ca66fdf3",
        "colab": {
          "base_uri": "https://localhost:8080/",
          "height": 336
        }
      },
      "source": [
        "#total deaths\n",
        "variable = 'Fallecidos'\n",
        "fig, ax = plt.subplots(figsize=(12, 5))\n",
        "ax.grid()\n",
        "ax.scatter(dataF['FECHA'],dataF[variable])\n",
        "ax.set(xlabel=\"Date\",ylabel=variable,title=variable)\n",
        "date_form = DateFormatter(\"%d-%m\")\n",
        "ax.xaxis.set_major_formatter(date_form)\n",
        "ax.xaxis.set_major_locator(mdates.DayLocator(interval = 3))\n",
        "fig.autofmt_xdate()\n",
        "fig.savefig(variable + '.png')\n",
        "plt.show()"
      ],
      "execution_count": 231,
      "outputs": [
        {
          "output_type": "display_data",
          "data": {
            "image/png": "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\n",
            "text/plain": [
              "<Figure size 864x360 with 1 Axes>"
            ]
          },
          "metadata": {
            "tags": [],
            "needs_background": "light"
          }
        }
      ]
    },
    {
      "cell_type": "code",
      "metadata": {
        "id": "Cg2YM1X2urSp",
        "colab_type": "code",
        "outputId": "e8bfaf1b-ed0b-4353-fc89-f7be4d494843",
        "colab": {
          "base_uri": "https://localhost:8080/",
          "height": 336
        }
      },
      "source": [
        "#intensive care\n",
        "variable = 'UCI'\n",
        "fig, ax = plt.subplots(figsize=(12, 5))\n",
        "ax.grid()\n",
        "ax.scatter(dataF['FECHA'],dataF[variable])\n",
        "ax.set(xlabel=\"Date\",ylabel=variable,title=variable)\n",
        "date_form = DateFormatter(\"%d-%m\")\n",
        "ax.xaxis.set_major_formatter(date_form)\n",
        "ax.xaxis.set_major_locator(mdates.DayLocator(interval = 3))\n",
        "fig.autofmt_xdate()\n",
        "fig.savefig(variable + '.png')\n",
        "plt.show()"
      ],
      "execution_count": 232,
      "outputs": [
        {
          "output_type": "display_data",
          "data": {
            "image/png": "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\n",
            "text/plain": [
              "<Figure size 864x360 with 1 Axes>"
            ]
          },
          "metadata": {
            "tags": [],
            "needs_background": "light"
          }
        }
      ]
    },
    {
      "cell_type": "code",
      "metadata": {
        "id": "Dd87DK1h1eNI",
        "colab_type": "code",
        "outputId": "9305c798-8ef1-41b9-c5ec-ecf2c1d8f36b",
        "colab": {
          "base_uri": "https://localhost:8080/",
          "height": 336
        }
      },
      "source": [
        "#daily deaths\n",
        "rolling_average_days = 7\n",
        "dataF['new_deaths_av'] = dataF['new_deaths'].rolling(window=rolling_average_days).mean()\n",
        "variable = 'new_deaths_av'\n",
        "fig, ax = plt.subplots(figsize=(12, 5))\n",
        "ax.grid()\n",
        "ax.scatter(dataF['FECHA'],dataF[variable])\n",
        "ax.set(xlabel=\"Date\",ylabel=variable,title=variable)\n",
        "date_form = DateFormatter(\"%d-%m\")\n",
        "ax.xaxis.set_major_formatter(date_form)\n",
        "ax.xaxis.set_major_locator(mdates.DayLocator(interval = 3))\n",
        "fig.autofmt_xdate()\n",
        "fig.savefig(variable + '.png')\n",
        "plt.show()"
      ],
      "execution_count": 237,
      "outputs": [
        {
          "output_type": "display_data",
          "data": {
            "image/png": "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\n",
            "text/plain": [
              "<Figure size 864x360 with 1 Axes>"
            ]
          },
          "metadata": {
            "tags": [],
            "needs_background": "light"
          }
        }
      ]
    },
    {
      "cell_type": "code",
      "metadata": {
        "id": "Avk4s0epxk_F",
        "colab_type": "code",
        "outputId": "4c3da6c1-1481-45c8-f96c-73ae85f4f049",
        "colab": {
          "base_uri": "https://localhost:8080/",
          "height": 336
        }
      },
      "source": [
        "#intensive care\n",
        "rolling_average_days = 7\n",
        "dataF['new_icare_av'] = dataF['new_icare'].rolling(window=rolling_average_days).mean()\n",
        "variable = 'new_icare_av'\n",
        "fig, ax = plt.subplots(figsize=(12, 5))\n",
        "ax.grid()\n",
        "ax.scatter(dataF['FECHA'],dataF[variable])\n",
        "ax.set(xlabel=\"Date\",ylabel=variable,title=variable)\n",
        "date_form = DateFormatter(\"%d-%m\")\n",
        "ax.xaxis.set_major_formatter(date_form)\n",
        "ax.xaxis.set_major_locator(mdates.DayLocator(interval = 3))\n",
        "fig.autofmt_xdate()\n",
        "fig.savefig(variable + '.png')\n",
        "plt.show()"
      ],
      "execution_count": 238,
      "outputs": [
        {
          "output_type": "display_data",
          "data": {
            "image/png": "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\n",
            "text/plain": [
              "<Figure size 864x360 with 1 Axes>"
            ]
          },
          "metadata": {
            "tags": [],
            "needs_background": "light"
          }
        }
      ]
    },
    {
      "cell_type": "code",
      "metadata": {
        "id": "3v6DbTdQ0n2l",
        "colab_type": "code",
        "outputId": "ccf66649-1b81-4383-f030-b3a254eab02d",
        "colab": {
          "base_uri": "https://localhost:8080/",
          "height": 336
        }
      },
      "source": [
        "#severe_deaths\n",
        "dataF['severe_deaths'] = dataF['new_deaths_av'] + dataF['new_icare_av']\n",
        "variable = 'severe_deaths'\n",
        "fig, ax = plt.subplots(figsize=(12, 5))\n",
        "ax.grid()\n",
        "ax.scatter(dataF['FECHA'],dataF[variable])\n",
        "ax.set(xlabel=\"Date\",ylabel=variable,title=variable)\n",
        "date_form = DateFormatter(\"%d-%m\")\n",
        "ax.xaxis.set_major_formatter(date_form)\n",
        "ax.xaxis.set_major_locator(mdates.DayLocator(interval = 3))\n",
        "ax.axvline(datetime(2020, 4, 1), c=\"green\", zorder=0)\n",
        "fig.autofmt_xdate()\n",
        "fig.savefig(variable + '.png')\n",
        "plt.show()"
      ],
      "execution_count": 241,
      "outputs": [
        {
          "output_type": "display_data",
          "data": {
            "image/png": "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\n",
            "text/plain": [
              "<Figure size 864x360 with 1 Axes>"
            ]
          },
          "metadata": {
            "tags": [],
            "needs_background": "light"
          }
        }
      ]
    },
    {
      "cell_type": "code",
      "metadata": {
        "id": "QnglD1Ut8dsm",
        "colab_type": "code",
        "outputId": "a2c4e0ae-a9d0-4451-dcc4-4140a961f40c",
        "colab": {
          "base_uri": "https://localhost:8080/",
          "height": 35
        }
      },
      "source": [
        "#Modeling the epidemic trend\n",
        "import numpy as np\n",
        "from sklearn import linear_model\n",
        "# prepare the lists for the model\n",
        "X = dataF['FECHA']\n",
        "y = dataF['severe_deaths'].tolist()[1:]\n",
        "# date format is not suitable for modeling, let's transform the date into incrementals number starting from April 1st\n",
        "starting_date = 41  # April 1st is the 41st day of the series\n",
        "day_numbers = []\n",
        "for i in range(1, len(X)):\n",
        "    day_numbers.append([i])\n",
        "X = day_numbers\n",
        "# # let's train our model only with data after the peak\n",
        "X = X[starting_date:]\n",
        "y = y[starting_date:]\n",
        "# Instantiate Linear Regression\n",
        "linear_regr = linear_model.LinearRegression()\n",
        "# Train the model using the training sets\n",
        "linear_regr.fit(X, y)\n",
        "print (\"Linear Regression Model Score: %s\" % (linear_regr.score(X, y)))"
      ],
      "execution_count": 242,
      "outputs": [
        {
          "output_type": "stream",
          "text": [
            "Linear Regression Model Score: 0.7231779647867269\n"
          ],
          "name": "stdout"
        }
      ]
    },
    {
      "cell_type": "code",
      "metadata": {
        "id": "Ow5c_HaI-Y2a",
        "colab_type": "code",
        "colab": {}
      },
      "source": [
        "#Predict future trend\n",
        "from sklearn.metrics import max_error\n",
        "import math\n",
        "y_pred = linear_regr.predict(X)\n",
        "error = max_error(y, y_pred)"
      ],
      "execution_count": 0,
      "outputs": []
    },
    {
      "cell_type": "code",
      "metadata": {
        "id": "lwXOKh9R-vgZ",
        "colab_type": "code",
        "colab": {}
      },
      "source": [
        "X_test = []\n",
        "future_days = 55\n",
        "for i in range(starting_date, starting_date + future_days):\n",
        "    X_test.append([i])\n",
        "y_pred_linear = linear_regr.predict(X_test)"
      ],
      "execution_count": 0,
      "outputs": []
    },
    {
      "cell_type": "code",
      "metadata": {
        "id": "waFEDdG1-vz_",
        "colab_type": "code",
        "colab": {}
      },
      "source": [
        "y_pred_max = []\n",
        "y_pred_min = []\n",
        "for i in range(0, len(y_pred_linear)):\n",
        "    y_pred_max.append(y_pred_linear[i] + error)\n",
        "    y_pred_min.append(y_pred_linear[i] - error)"
      ],
      "execution_count": 0,
      "outputs": []
    },
    {
      "cell_type": "code",
      "metadata": {
        "id": "V3AO3Wlm_Cnn",
        "colab_type": "code",
        "colab": {}
      },
      "source": [
        "# convert date of the epidemic peak into datetime format\n",
        "from datetime import datetime, timedelta\n",
        "\n",
        "date_zero = (dataF['FECHA'][starting_date])\n",
        "# creating x_ticks for making the plot more appealing\n",
        "date_prev = []\n",
        "x_ticks = []\n",
        "step = 5\n",
        "data_curr = date_zero\n",
        "x_current = starting_date\n",
        "n = int(future_days / step)\n",
        "for i in range(0, n):\n",
        "    date_prev.append(str(data_curr.day) + \"/\" + str(data_curr.month))\n",
        "    x_ticks.append(x_current)\n",
        "    data_curr = data_curr + timedelta(days=step)\n",
        "    x_current = x_current + step\n"
      ],
      "execution_count": 0,
      "outputs": []
    },
    {
      "cell_type": "code",
      "metadata": {
        "id": "R1QSGMG5Bju-",
        "colab_type": "code",
        "outputId": "e7806cbc-adb2-4bb5-9c75-d4b712b8a78c",
        "colab": {
          "base_uri": "https://localhost:8080/",
          "height": 279
        }
      },
      "source": [
        "# plot known data\n",
        "plt.grid()\n",
        "plt.scatter(X, y)\n",
        "# plot linear regression prediction\n",
        "plt.plot(X_test, y_pred_linear, color='green', linewidth=2)\n",
        "# plot maximum error\n",
        "plt.plot(X_test, y_pred_max, color='red', linewidth=1, linestyle='dashed')\n",
        "#plot minimum error\n",
        "plt.plot(X_test, y_pred_min, color='red', linewidth=1, linestyle='dashed')\n",
        "plt.xlabel('Days')\n",
        "plt.xlim(starting_date, starting_date + future_days)\n",
        "plt.xticks(x_ticks, date_prev)\n",
        "plt.ylabel('severe_deaths')\n",
        "plt.yscale(\"log\")\n",
        "plt.savefig(\"prediction.png\")\n",
        "plt.show()\n"
      ],
      "execution_count": 247,
      "outputs": [
        {
          "output_type": "display_data",
          "data": {
            "image/png": "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\n",
            "text/plain": [
              "<Figure size 432x288 with 1 Axes>"
            ]
          },
          "metadata": {
            "tags": [],
            "needs_background": "light"
          }
        }
      ]
    },
    {
      "cell_type": "code",
      "metadata": {
        "id": "oSFdRAS4S8Oe",
        "colab_type": "code",
        "outputId": "a1e10288-2039-4d55-bdcc-9a0460f50a96",
        "colab": {
          "base_uri": "https://localhost:8080/",
          "height": 54
        }
      },
      "source": [
        "import math\n",
        "def n_to_date(n):\n",
        "    #it converts a number to a date, considering starting from starting_date\n",
        "    return (date_zero + timedelta(days=n-starting_date)).strftime('%d/%m/%Y')\n",
        "def build_line(x1,y1,x2,y2):\n",
        "    m = float(y2 - y1)/(x2-x1)\n",
        "    q = y1 - (m*x1)\n",
        "    return [m,q]\n",
        "\n",
        "data_zero = round(- linear_regr.intercept_ / linear_regr.coef_[0])\n",
        "\n",
        "line_max = build_line(X_test[0][0], y_pred_max[0], X_test[1][0], y_pred_max[1])\n",
        "data_zero_max = math.ceil(- line_max[1] / line_max[0])\n",
        "data_zero_max = n_to_date(data_zero_max)\n",
        "\n",
        "line_min = build_line(X_test[0][0], y_pred_min[0], X_test[1][0], y_pred_min[1])\n",
        "data_zero_min = math.floor(- line_min[1] / line_min[0])\n",
        "data_zero_min = n_to_date(data_zero_min)\n",
        "print ()\n",
        "print (\"Zero intensive cares and deaths expected between %s and %s\" % (data_zero_max, data_zero_min))"
      ],
      "execution_count": 248,
      "outputs": [
        {
          "output_type": "stream",
          "text": [
            "\n",
            "Zero intensive cares and deaths expected between 13/06/2020 and 09/05/2020\n"
          ],
          "name": "stdout"
        }
      ]
    },
    {
      "cell_type": "code",
      "metadata": {
        "id": "jxzuvewnTbEs",
        "colab_type": "code",
        "outputId": "4b846447-d68b-463c-fc38-42cb9bb7390b",
        "colab": {
          "base_uri": "https://localhost:8080/",
          "height": 35
        }
      },
      "source": [
        "#Regional trends\n",
        "zone1_df = dataCCAA[dataCCAA.CCAA.isin(['MD','CT','PV'])]\n",
        "zone1_df['Fallecidos'].sum()\n",
        "print(\"Zone 1 accounts for %s percent of the total deaths\" % (round(zone1_df['Fallecidos'].sum() / data['Fallecidos'].sum() * 100,2)))\n"
      ],
      "execution_count": 249,
      "outputs": [
        {
          "output_type": "stream",
          "text": [
            "Zone 1 accounts for 60.4 percent of the total deaths\n"
          ],
          "name": "stdout"
        }
      ]
    },
    {
      "cell_type": "code",
      "metadata": {
        "id": "705Rk4XNWd6E",
        "colab_type": "code",
        "outputId": "dd2939a3-5b1b-4ec8-e36e-74fd8e3bf034",
        "colab": {
          "base_uri": "https://localhost:8080/",
          "height": 1000
        }
      },
      "source": [
        "regions = {'AN': 1, 'AS' : 3, 'CL': 7,'CM': 8, 'GA' : 16, \"RI\" : 17}\n",
        "\n",
        "rolling_average_days = 7\n",
        "\n",
        "regional_data_list = []\n",
        "\n",
        "for region_name, region_code in regions.items():\n",
        "    is_region = dataCCAA['CCAA'] == region_name\n",
        "    data_region = dataCCAA[is_region].copy()\n",
        "    date = data_region['FECHA']\n",
        "    date_format = [pd.to_datetime(d, format='%d/%m/%Y') for d in date]\n",
        "    data_region['new_cases'] = data_region['new_cases'].rolling(window=rolling_average_days).mean()\n",
        "    data_region['new_deaths'] = data_region['new_deaths'].rolling(window=rolling_average_days).mean()\n",
        "    data_region['perc_deaths'] = ((data_region['new_deaths'])/(data_region['new_cases'])*100)\n",
        "    data_region['severe_deaths'] =  data_region['new_deaths'].rolling(window=rolling_average_days).mean() + data_region['new_icare'].rolling(window=rolling_average_days).mean()\n",
        "    regional_data_list.append(data_region)\n",
        "\n",
        "list_of_variables = ['perc_deaths', 'severe_deaths']\n",
        "\n",
        "for variable in list_of_variables:\n",
        "    print(\"Creating regional charts for \" + variable)\n",
        "    fig, axs = plt.subplots(3, 2, sharey=True,figsize=(12, 8))\n",
        "    fig.suptitle('Regional trend of ' + variable,fontsize = 'large')\n",
        "    date_form = DateFormatter(\"%d-%m\")\n",
        "    counter = 0\n",
        "    for ax in axs.flat:\n",
        "        ax.scatter(date_format, regional_data_list[counter][variable])\n",
        "        ax.set_title(regional_data_list[counter]['CCAA'].iloc[0], fontsize='medium')\n",
        "        ax.xaxis.set_major_formatter(date_form)\n",
        "        # Ensure a major tick for each week using (interval=1)\n",
        "        ax.xaxis.set_major_locator(mdates.WeekdayLocator(interval=1))\n",
        "        ax.grid()\n",
        "        fig.autofmt_xdate()\n",
        "        counter +=1\n",
        "    fig.tight_layout()\n",
        "    fig.savefig('Regional trend of ' + variable + '.png')\n",
        "    plt.show()\n"
      ],
      "execution_count": 251,
      "outputs": [
        {
          "output_type": "stream",
          "text": [
            "Creating regional charts for perc_deaths\n"
          ],
          "name": "stdout"
        },
        {
          "output_type": "display_data",
          "data": {
            "image/png": "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\n",
            "text/plain": [
              "<Figure size 864x576 with 6 Axes>"
            ]
          },
          "metadata": {
            "tags": [],
            "needs_background": "light"
          }
        },
        {
          "output_type": "stream",
          "text": [
            "Creating regional charts for severe_deaths\n"
          ],
          "name": "stdout"
        },
        {
          "output_type": "display_data",
          "data": {
            "image/png": "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\n",
            "text/plain": [
              "<Figure size 864x576 with 6 Axes>"
            ]
          },
          "metadata": {
            "tags": [],
            "needs_background": "light"
          }
        }
      ]
    }
  ]
}
